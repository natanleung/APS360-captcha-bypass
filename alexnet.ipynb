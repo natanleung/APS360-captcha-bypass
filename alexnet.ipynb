{
  "nbformat": 4,
  "nbformat_minor": 0,
  "metadata": {
    "colab": {
      "name": "alexnet.ipynb",
      "provenance": [],
      "collapsed_sections": [],
      "toc_visible": true
    },
    "kernelspec": {
      "name": "python3",
      "display_name": "Python 3"
    }
  },
  "cells": [
    {
      "cell_type": "markdown",
      "metadata": {
        "id": "vpgUuwmrWdTi"
      },
      "source": [
        "# Captcha Bypass\n",
        "\n",
        "**Team 99**\n",
        "\n",
        "Pranavbhai Patel\n",
        "\n",
        "Nicholas Leung\n",
        "\n",
        "Coden Mercurius\n",
        "\n",
        "Ravi Singh\n",
        "\n",
        "**Description**\n",
        "\n",
        "CAPTCHA, or Completely Automated Public Turing Test to Tell Computers and Humans Apart, is a challenge-response test that determines whether a user is authentic (human) or inauthentic (machine). They require users to authenticate themselves by retyping a character sequence prior to completing a request. This notebook implements a CAPTCHA bypass using deep learning. The team aims to investigate weaknesses and vulnerabilities of the CAPTCHA system."
      ]
    },
    {
      "cell_type": "code",
      "metadata": {
        "id": "X5bj7jdWkZ2K"
      },
      "source": [
        "import torch\n",
        "import torch.nn as nn\n",
        "import os\n",
        "from skimage import io\n",
        "from torch.utils.data import Dataset, DataLoader\n",
        "import torch.utils.data\n",
        "import torchvision \n",
        "from torchvision import datasets, transforms\n",
        "import matplotlib.pyplot as plt\n",
        "import numpy as np\n",
        "import time"
      ],
      "execution_count": 4,
      "outputs": []
    },
    {
      "cell_type": "markdown",
      "metadata": {
        "id": "hpLX9Jc1Xl2o"
      },
      "source": [
        "## Part 1. Data Processing\n",
        "\n",
        "The dataset for this model is generated using the following library: https://github.com/lepture/captcha. No additional data augmentation is performed at this time. The code used to generate the dataset is found in the team private repo and is named `dataset_generator.py`.\n",
        "\n",
        "**Current Dataset Characteristics:**\n",
        "- Uniform distribution of characters used\n",
        "- Numerical characters only\n",
        "\n",
        "The generated dataset is availiable through the team private repo. Upload `dataset.zip` into the root session storage and run the below cell to unzip."
      ]
    },
    {
      "cell_type": "code",
      "metadata": {
        "id": "_jHHqUmAHun2"
      },
      "source": [
        "!unzip  /content/alphanumeric_dataset.zip -d /content/"
      ],
      "execution_count": null,
      "outputs": []
    },
    {
      "cell_type": "code",
      "metadata": {
        "id": "n1QRiBOmkLiD"
      },
      "source": [
        "class CaptchaDataset(Dataset):\n",
        "  \"\"\" Captcha Dataset \"\"\"\n",
        "\n",
        "  def __init__(self, directory):\n",
        "    self.directory = directory\n",
        "    self.captchas = os.listdir(directory)\n",
        "    self.captchas.remove(\"metadata.txt\")\n",
        "\n",
        "    self.transform = transforms.Compose(\n",
        "        [transforms.ToTensor(),\n",
        "         transforms.Normalize((0.5, 0.5, 0.5), (0.5, 0.5, 0.5))])\n",
        "    \n",
        "    self.character_set = open(directory + \"/metadata.txt\", \"r\").readline().split(',')\n",
        "    self.characters_to_identifier = {}\n",
        "\n",
        "    for i in range(len(self.character_set)):\n",
        "      self.characters_to_identifier.update({ self.character_set[i]: i })\n",
        "\n",
        "  def __len__(self):\n",
        "    # Assumes each file in the dataset directory represents a data sample\n",
        "    return len(self.captchas)\n",
        "\n",
        "  def __getitem__(self, index):\n",
        "    sample_name = self.captchas[index]\n",
        "    sample_captcha_values = list(sample_name[0:-4]) # Slice s.t. remove png file extension\n",
        "\n",
        "    # Read the image and represent it as a tensor\n",
        "    image = io.imread(self.directory + '/' + sample_name)\n",
        "    image = self.transform(image)\n",
        "\n",
        "    # Represent each character as an integer identifier\n",
        "    label = []\n",
        "    for char in sample_captcha_values:\n",
        "      label.append(self.characters_to_identifier.get(char))\n",
        "\n",
        "    return (image, torch.tensor(label))"
      ],
      "execution_count": 5,
      "outputs": []
    },
    {
      "cell_type": "code",
      "metadata": {
        "id": "369gvdfelzTC"
      },
      "source": [
        "dataset_path = \"/content/alphanumeric_dataset\"\n",
        "\n",
        "# Instantiate dataset\n",
        "dataset = CaptchaDataset(dataset_path)\n",
        "character_set = dataset.character_set\n",
        "\n",
        "character_frequency = {} # Contains frequency information\n",
        "\n",
        "# Populate character_frequency\n",
        "for _, label in dataset:\n",
        "  for char_identifier in label:\n",
        "    char = character_set[char_identifier.item()]\n",
        "    current_value = character_frequency.get(char, None)\n",
        "\n",
        "    if current_value is None: \n",
        "      character_frequency.update({ char : 0 })\n",
        "    else:\n",
        "      character_frequency.update({ char : current_value + 1 })"
      ],
      "execution_count": 127,
      "outputs": []
    },
    {
      "cell_type": "code",
      "metadata": {
        "colab": {
          "base_uri": "https://localhost:8080/",
          "height": 295
        },
        "id": "CKOpRG17wP_d",
        "outputId": "a7d34958-837a-4e13-b816-3b59ac3a909c"
      },
      "source": [
        "# Dataset visualization\n",
        "\n",
        "x_values = range(len(character_set))\n",
        "y_values = []\n",
        "\n",
        "for char in character_set:\n",
        "  count = character_frequency.get(char)\n",
        "  y_values.append(count)\n",
        "\n",
        "plt.title(\"Character frequency in dataset\")\n",
        "plt.plot(x_values, y_values)\n",
        "plt.xlabel(\"Characters\")\n",
        "plt.ylabel(\"Count\")\n",
        "plt.xticks(x_values, character_set)\n",
        "plt.show()"
      ],
      "execution_count": 128,
      "outputs": [
        {
          "output_type": "display_data",
          "data": {
            "image/png": "[encoded data removed]",
            "text/plain": [
              "<Figure size 432x288 with 1 Axes>"
            ]
          },
          "metadata": {
            "tags": [],
            "needs_background": "light"
          }
        }
      ]
    },
    {
      "cell_type": "code",
      "metadata": {
        "id": "YGzF8YBvzBhk"
      },
      "source": [
        "def get_data_loaders(dataset, batch_size):\n",
        "\n",
        "  training_ratio = 0.7\n",
        "  validation_ratio = 0.15\n",
        "  # test_ratio implied\n",
        "\n",
        "  train_length = int(len(dataset) * training_ratio)\n",
        "  validation_length = int((len(dataset) - train_length) * (validation_ratio / ( 1 - training_ratio )))\n",
        "  test_length = len(dataset) - train_length - validation_length\n",
        "  \n",
        "  train_set, valid_set, test_set = torch.utils.data.random_split(dataset, [train_length, validation_length, test_length], torch.Generator().manual_seed(10))\n",
        "\n",
        "  # REMINDER: Data is not shuffled per epoch, we may want this\n",
        "  train_loader = torch.utils.data.DataLoader(train_set, batch_size=batch_size, num_workers=1)\n",
        "  valid_loader = torch.utils.data.DataLoader(valid_set, batch_size=batch_size, num_workers=1)\n",
        "  test_loader = torch.utils.data.DataLoader(test_set, batch_size=batch_size, num_workers=1)\n",
        "\n",
        "  return train_loader, valid_loader, test_loader"
      ],
      "execution_count": 129,
      "outputs": []
    },
    {
      "cell_type": "markdown",
      "metadata": {
        "id": "ERhHo2hsCbZN"
      },
      "source": [
        "## Part 2: CAPTCHA Segmentation"
      ]
    },
    {
      "cell_type": "code",
      "metadata": {
        "id": "U3GEs9UA79cx"
      },
      "source": [
        "import random\n",
        "import cv2\n",
        "import torchvision as tv"
      ],
      "execution_count": 11,
      "outputs": []
    },
    {
      "cell_type": "code",
      "metadata": {
        "id": "j6KWaxmnp7-M"
      },
      "source": [
        "def processimage(image, thresh):\n",
        "      #Format image type/ dimensions\n",
        "      image=image.permute(1,2,0)\n",
        "      image=image.numpy()\n",
        "      imageorig=image\n",
        "      \n",
        "      #Modify image so contours/ borders can be easily found\n",
        "      #Greyscale\n",
        "      image = cv2.cvtColor(image, cv2.COLOR_RGB2GRAY)\n",
        "      #Binary Threshold\n",
        "      NA, image = cv2.threshold(image, thresh, 1, cv2.THRESH_BINARY)\n",
        "      #Erosion\n",
        "      kernel = np.ones((2,2),np.uint8)\n",
        "      image = cv2.dilate(image,kernel,iterations = 1)\n",
        "      #Vertical Blur and Resharpen\n",
        "      morpher = cv2.getStructuringElement(cv2.MORPH_RECT, (1,3))\n",
        "      image = cv2.morphologyEx(image, cv2.MORPH_CLOSE, morpher)\n",
        "      #Binary Threshold  \n",
        "      thresh, image = cv2.threshold(image,thresh, 1, cv2.THRESH_BINARY)\n",
        "      #Expand Border\n",
        "      image=cv2.copyMakeBorder(image, 5, 5, 5, 5,cv2.BORDER_CONSTANT,value=1)\n",
        "      image = image.astype(np.uint8)\n",
        "\n",
        "      return imageorig,image"
      ],
      "execution_count": 12,
      "outputs": []
    },
    {
      "cell_type": "code",
      "metadata": {
        "id": "9dW5ETYs4JYh"
      },
      "source": [
        "def segmentimage(image,narrow):\n",
        "    #Return list of borderlines in image\n",
        "    contours, hierarchy = cv2.findContours(image, cv2.RETR_TREE, cv2.CHAIN_APPROX_SIMPLE)\n",
        "    #imagecont=cv2.drawContours(image, contours, -1, (0, 0.5, 0), 1)\n",
        "\n",
        "    #Creates boxes for every large object\n",
        "    boxes=[]\n",
        "    for contour in contours:\n",
        "        [x,y,w,h]=cv2.boundingRect(contour)\n",
        "        if(w>8 and w<120 and h>30):\n",
        "          boxes.append([x,y,w,h])\n",
        "    boxes.sort(key=lambda x: x[0])\n",
        "\n",
        "    #Eliminates boxes that are contained whithin other boxes (subparts of a letter)\n",
        "    i=1\n",
        "    while (i<len(boxes)):\n",
        "      box=boxes[i]\n",
        "      boxprev=boxes[i-1]\n",
        "      if (box[0]>boxprev[0] and box[1]>boxprev[1] and (box[0]+box[2])<(boxprev[0]+boxprev[2]) and (box[1]+box[3])<(boxprev[1]+boxprev[3])):\n",
        "        boxes.pop(i)\n",
        "        i-=1\n",
        "      i+=1\n",
        "\n",
        "    #If boxes are too wide they may contain multiple boxes \n",
        "    #They are split vertically into 2 or 3 subboxes (even width splits)\n",
        "    i=0\n",
        "    while (i<len(boxes)):\n",
        "      box=boxes[i]\n",
        "      if (box[2]>box[3]*(0.95-narrow)):\n",
        "        x,y,w,h=boxes.pop(i)\n",
        "        boxes.insert(i,[x+int((2*w)/3),y,int(w/3),h])\n",
        "        boxes.insert(i,[x+int((w)/3),y,int(w/3),h])\n",
        "        boxes.insert(i,[x,y,int(w/3),h])\n",
        "      elif (box[2]>box[3]*(0.6-narrow)):\n",
        "        x,y,w,h=boxes.pop(i)\n",
        "        boxes.insert(i,[x+int(w/2),y,int(w/2),h])\n",
        "        boxes.insert(i,[x,y,int(w/2),h])\n",
        "      if (i>=len(boxes)-1):\n",
        "        break\n",
        "      i+=1\n",
        "    \n",
        "    return boxes"
      ],
      "execution_count": 13,
      "outputs": []
    },
    {
      "cell_type": "code",
      "metadata": {
        "id": "e_n7nFlRJ3Nd"
      },
      "source": [
        "def getcharacterimages(images, showsegments=False, filterBadSegmentation=False, imgsize=80):\n",
        "  characters=[]\n",
        "  for i in range (0,len(images)):\n",
        "    imageraw = images[i]\n",
        " \n",
        "    # CAPTCHA image pre-processed, custom function called\n",
        "    # Rectangle Borders of each character obtained, custom function called\n",
        "    for i in range(0,7):\n",
        "      thresh, narrow = 0.6,0\n",
        "      if (i>=1):\n",
        "        narrow=0.1\n",
        "        thresh=0.6+(i-1)*0.1\n",
        "      imageorig, image=processimage(imageraw,thresh)\n",
        "      imageboxes = np.copy(image)\n",
        "      boxes=segmentimage(image,narrow)\n",
        "      if (len(boxes)>=5):\n",
        "        break\n",
        "\n",
        "    # Filter bad segmentation cases\n",
        "    if filterBadSegmentation and len(boxes) < 5:\n",
        "      continue\n",
        "      \n",
        "    # Individual Characters images are cut out from CAPTCHA image\n",
        "    charactersset=[]\n",
        "    for i in range(0,5):\n",
        "      # If insufficient letters obtainable, add an empty image\n",
        "      if (i<len(boxes)):\n",
        "        box=boxes[i]\n",
        "      else:\n",
        "        box=[0,0,1,1]\n",
        "\n",
        "      [x,y,w,h]=box\n",
        "      char=image[y:y+h,x:x+w]\n",
        "      height=char.shape[0]\n",
        "      width=char.shape[1]\n",
        "      # cv2.copyMakeBorder(soruce, top, bottom, left, right, borderType, value)\n",
        "      if (width>height):\n",
        "        char=cv2.copyMakeBorder(char, int ((width-height)/2),int ((width-height)/2), 0, 0,cv2.BORDER_CONSTANT,value=1)\n",
        "      if (height>width):\n",
        "        char=cv2.copyMakeBorder(char,0,0, int ((height-width)/2), int ((height-width)/2),cv2.BORDER_CONSTANT,value=1)\n",
        "      char = cv2.resize(char, dsize=(imgsize, imgsize), interpolation=cv2.INTER_CUBIC)\n",
        "      char=torch.Tensor(char)\n",
        "      charactersset.append(char)\n",
        "      cv2.rectangle(imageboxes,(x,y),(x+w,y+h),0,1)\n",
        "    charactersset=torch.stack(charactersset)\n",
        "    characters.append(charactersset)\n",
        "    \n",
        "    if (showsegments==True):\n",
        "      plt.imshow(imageorig)\n",
        "      plt.show()\n",
        "      plt.imshow(imageboxes, cmap='gray', vmin = 0, vmax = 1)\n",
        "      plt.show()\n",
        "      for i in range(0,5):\n",
        "        plt.subplot(1,5,i+1)\n",
        "        plt.imshow(charactersset[i], cmap='gray', vmin = 0, vmax = 1)\n",
        "      plt.show()\n",
        "\n",
        "  return torch.stack(characters)"
      ],
      "execution_count": 47,
      "outputs": []
    },
    {
      "cell_type": "code",
      "metadata": {
        "id": "CUDC0_52dpmD",
        "colab": {
          "base_uri": "https://localhost:8080/"
        },
        "outputId": "d4d9fe28-32d8-45ca-b6f0-1d600b8fc9a8"
      },
      "source": [
        "\"\"\"\n",
        "How To Use - getcharacterimages(images, showsegments=False)\n",
        "\n",
        "Input = tensor(batchsize,numchannels,height,width) (see below)\n",
        "Output = tensor(batchsize, numcharacters = 5, height = 80, width = 80 )\n",
        "\n",
        "Turn showsegments on to visualize segmentation process\n",
        "\"\"\"\n",
        "train, valid, test = get_data_loaders(dataset, 100)\n",
        "\n",
        "images_processed = 0\n",
        "successful_segmentation = 0\n",
        "\n",
        "for images, labels in train:\n",
        "  characters = getcharacterimages(images, False, True)\n",
        "  images_processed = images_processed + len(labels)\n",
        "  successful_segmentation = successful_segmentation + len(characters)\n",
        "\n",
        "print(f\"Successful segmentation accuracy: { successful_segmentation / images_processed }\")"
      ],
      "execution_count": 130,
      "outputs": [
        {
          "output_type": "stream",
          "text": [
            "Successful segmentation accuracy: 0.9614285714285714\n"
          ],
          "name": "stdout"
        }
      ]
    },
    {
      "cell_type": "code",
      "metadata": {
        "id": "ViUfd7IqzU1x"
      },
      "source": [
        "CNN_train, CNN_valid, CNN_test = [], [], []\n",
        "\n",
        "for images, labels in train:\n",
        "    CNN_train.append((getcharacterimages(images, False, imgsize=28), labels))\n",
        "CNN_train = CNN_train[:len(CNN_train)-1]\n",
        "\n",
        "for images, labels in valid:\n",
        "    CNN_valid.append((getcharacterimages(images, False, imgsize=28), labels))\n",
        "CNN_valid = CNN_valid[:len(CNN_valid)-1]\n",
        "\n",
        "for images, labels in test:\n",
        "    CNN_test.append((getcharacterimages(images, False, imgsize=28), labels))\n",
        "CNN_test = CNN_test[:len(CNN_test)-1]"
      ],
      "execution_count": 158,
      "outputs": []
    },
    {
      "cell_type": "markdown",
      "metadata": {
        "id": "UpTP5Fe5zrL3"
      },
      "source": [
        "## Part 3: Primary Model"
      ]
    },
    {
      "cell_type": "code",
      "metadata": {
        "id": "R4tryOo9SEQt"
      },
      "source": [
        "import torch.nn.functional as F\n",
        "import torch.optim as optim\n",
        "import pandas as pd"
      ],
      "execution_count": 37,
      "outputs": []
    },
    {
      "cell_type": "code",
      "metadata": {
        "id": "B-n0cYyCqep0"
      },
      "source": [
        "use_cuda = True"
      ],
      "execution_count": 38,
      "outputs": []
    },
    {
      "cell_type": "code",
      "metadata": {
        "id": "Bn_e3FRQ2yBC"
      },
      "source": [
        "# Sample CNN based on Lab 2 model\n",
        "class CaptchaCNN(nn.Module):\n",
        "    def __init__(self):\n",
        "        super(CaptchaCNN, self).__init__()\n",
        "        self.name = \"CaptchaCNN\"\n",
        "\n",
        "        # 5 chars, 5,5 we decide\n",
        "        self.conv1 = nn.Conv2d(1, 5, 5)\n",
        "        # w,h = \n",
        "        self.pool1 = nn.MaxPool2d(2, 2)\n",
        "        # w,h = \n",
        "\n",
        "        # 5 matches the second 5 from the first CNN layer\n",
        "        self.conv2 = nn.Conv2d(5, 10, 5)\n",
        "        # w,h =\n",
        "        self.pool2 = nn.MaxPool2d(2,2)\n",
        "        # w,h = \n",
        "\n",
        "        self.fc1 = nn.Linear(160, 32)\n",
        "        self.fc2 = nn.Linear(32, 36)\n",
        "\n",
        "    def forward(self, img):\n",
        "        x = self.pool1(F.relu(self.conv1(img)))\n",
        "        x = self.pool2(F.relu(self.conv2(x)))\n",
        "        x = x.view(-1, 160)\n",
        "        return self.fc2(F.relu(self.fc1(x)))"
      ],
      "execution_count": 70,
      "outputs": []
    },
    {
      "cell_type": "code",
      "metadata": {
        "id": "IOKGyXUTThV1"
      },
      "source": [
        "def plot(title, xlabel, ylabel, data1, data1_label, data2, data2_label, epochs):\n",
        "    plt.title(title)\n",
        "    plt.plot(epochs, data1, label=data1_label)\n",
        "    if data2 is not None:\n",
        "      plt.plot(epochs, data2, label=data2_label)\n",
        "    plt.xlabel(xlabel)\n",
        "    plt.ylabel(ylabel)\n",
        "    plt.legend(loc='best')\n",
        "    plt.show()"
      ],
      "execution_count": 51,
      "outputs": []
    },
    {
      "cell_type": "code",
      "metadata": {
        "id": "I8UOugulJZog"
      },
      "source": [
        "captcha_length = 5\n",
        "batch_size = 100"
      ],
      "execution_count": 41,
      "outputs": []
    },
    {
      "cell_type": "code",
      "metadata": {
        "id": "QABXBjeRDNpY"
      },
      "source": [
        "def get_accuracy(model, data_loader):\n",
        "  total = 0\n",
        "  correct = 0\n",
        "  char_correct = 0\n",
        "  for imgs, labels in data_loader:\n",
        "      if torch.cuda.is_available():\n",
        "          imgs = imgs.cuda()\n",
        "          labels = labels.cuda()\n",
        "      for i in range(batch_size):\n",
        "        output = model(imgs[i].reshape(-1, 1, 28, 28))\n",
        "        pred = output.max(1, keepdim=True)[1] # get the index of the max logit\n",
        "        num_correct = 0\n",
        "        for j in range(captcha_length): \n",
        "          # print(labels[i][j])\n",
        "          # print(pred[j])\n",
        "          if labels[i][j] == pred[j].squeeze(0):\n",
        "            num_correct += 1\n",
        "            char_correct += 1\n",
        "          # print(num_correct)\n",
        "        if num_correct == 5:\n",
        "          correct += 1\n",
        "        total += 1\n",
        "  return correct / total, char_correct / (5 * total)"
      ],
      "execution_count": 42,
      "outputs": []
    },
    {
      "cell_type": "code",
      "metadata": {
        "id": "3aGH3j8I7wJg"
      },
      "source": [
        "def get_model_name(name, epoch, learning_rate=1e-4):\n",
        "  \"\"\"\n",
        "  Generate a name for the model consisting of all the hyperparameter values\n",
        "  \"\"\"\n",
        "  path=\"model_{0}_lr{1}_epoch{2}\".format(\n",
        "      name, learning_rate, epoch)\n",
        "  return path"
      ],
      "execution_count": 73,
      "outputs": []
    },
    {
      "cell_type": "code",
      "metadata": {
        "id": "6-Mvd6TdTs1m"
      },
      "source": [
        "def train_cnn(model, x, y, batch_size=128, num_epochs=20, learning_rate=0.001):\n",
        "    torch.manual_seed(360)\n",
        "\n",
        "    criterion = nn.CrossEntropyLoss()\n",
        "    optimizer = optim.Adam(model.parameters(), lr=learning_rate)\n",
        "\n",
        "    train_loader = x\n",
        "    valid_loader = y\n",
        "\n",
        "    iters = []\n",
        "    losses = []\n",
        "    train_acc = []\n",
        "    valid_acc = []\n",
        "\n",
        "    epoch = 0\n",
        "\n",
        "    for epoch in range(num_epochs):\n",
        "        for img, label in train_loader:  \n",
        "            img = img.reshape(-1, 1, 28, 28)\n",
        "            label = label.reshape(-1)\n",
        "            if use_cuda and torch.cuda.is_available():\n",
        "                imgs = imgs.cuda()\n",
        "                labels = labels.cuda()\n",
        "            out = model(img) # forward pass\n",
        "            loss = criterion(out, label) # compute the total loss\n",
        "            loss.backward()  # backward pass (compute parameter updates)\n",
        "            optimizer.step()  # make the updates for each parameter\n",
        "            optimizer.zero_grad()  # a clean up step for PyTorch\n",
        "\n",
        "        # Save the current model (checkpoint) to a file\n",
        "        model_path = get_model_name(model.name, epoch, learning_rate=learning_rate)\n",
        "        torch.save(model.state_dict(), model_path)\n",
        "\n",
        "        # save the current training information\n",
        "        iters.append(epoch)\n",
        "        losses.append(float(loss))  # compute *average* loss\n",
        "        captcha_acc, char_acc = get_accuracy(model, train_loader)\n",
        "        train_acc.append(captcha_acc)  # compute training accuracy\n",
        "        if y != None:\n",
        "            valid_acc.append(\n",
        "                get_accuracy(model, valid_loader)[0]\n",
        "            )  # compute validation accuracy\n",
        "        if y != None:\n",
        "            print(\n",
        "                (\n",
        "                    \"Epoch {}: Training accuracy: {}, \" + \"Validation accuracy: {}\"\n",
        "                ).format(epoch + 1, train_acc[epoch], valid_acc[epoch])\n",
        "            )\n",
        "        else:\n",
        "            print(\n",
        "                (\"Epoch {}: Training accuracy: {}\").format(epoch + 1, train_acc[epoch])\n",
        "            )\n",
        "        epoch += 1\n",
        "\n",
        "        # model_path = get_model_name(model.name, batch_size, learning_rate, epoch)\n",
        "        # torch.save(model.state_dict(), model_path)\n",
        "    plt.title(\"Loss\")\n",
        "    plt.plot(iters, losses, label=\"Train\")\n",
        "    plt.xlabel(\"Iterations\")\n",
        "    plt.ylabel(\"Loss\")\n",
        "    plt.show()\n",
        "\n",
        "    plt.title(\"Accuracy\")\n",
        "    plt.plot(iters, train_acc, label=\"Train\")\n",
        "    if y != None:\n",
        "        plt.plot(iters, valid_acc, label=\"Validation\")\n",
        "    plt.xlabel(\"Iterations\")\n",
        "    plt.ylabel(\"Accuracy\")\n",
        "    plt.legend(loc=\"best\")\n",
        "    plt.show()\n",
        "\n",
        "    if y != None:\n",
        "        return losses, train_acc, valid_acc\n",
        "    return losses, train_acc"
      ],
      "execution_count": 124,
      "outputs": []
    },
    {
      "cell_type": "code",
      "metadata": {
        "id": "6dg7J9KopNQ7",
        "colab": {
          "base_uri": "https://localhost:8080/",
          "height": 1000
        },
        "outputId": "5c4aadac-d45b-434d-8036-7f8c6f428d07"
      },
      "source": [
        "model = CaptchaCNN()\n",
        "losses, train_acc, valid_acc = train_cnn(model, CNN_train, CNN_valid, 100, 50, 5e-3)"
      ],
      "execution_count": 133,
      "outputs": [
        {
          "output_type": "stream",
          "text": [
            "Epoch 1: Training accuracy: 0.0005, Validation accuracy: 0.0025\n",
            "Epoch 2: Training accuracy: 0.0355, Validation accuracy: 0.0325\n",
            "Epoch 3: Training accuracy: 0.1085, Validation accuracy: 0.1\n",
            "Epoch 4: Training accuracy: 0.2095, Validation accuracy: 0.1675\n",
            "Epoch 5: Training accuracy: 0.303, Validation accuracy: 0.24\n",
            "Epoch 6: Training accuracy: 0.3645, Validation accuracy: 0.315\n",
            "Epoch 7: Training accuracy: 0.393, Validation accuracy: 0.325\n",
            "Epoch 8: Training accuracy: 0.4195, Validation accuracy: 0.3625\n",
            "Epoch 9: Training accuracy: 0.4425, Validation accuracy: 0.37\n",
            "Epoch 10: Training accuracy: 0.4675, Validation accuracy: 0.3925\n",
            "Epoch 11: Training accuracy: 0.477, Validation accuracy: 0.3975\n",
            "Epoch 12: Training accuracy: 0.495, Validation accuracy: 0.4125\n",
            "Epoch 13: Training accuracy: 0.509, Validation accuracy: 0.42\n",
            "Epoch 14: Training accuracy: 0.521, Validation accuracy: 0.415\n",
            "Epoch 15: Training accuracy: 0.532, Validation accuracy: 0.415\n",
            "Epoch 16: Training accuracy: 0.5335, Validation accuracy: 0.415\n",
            "Epoch 17: Training accuracy: 0.544, Validation accuracy: 0.42\n",
            "Epoch 18: Training accuracy: 0.556, Validation accuracy: 0.44\n",
            "Epoch 19: Training accuracy: 0.57, Validation accuracy: 0.4275\n",
            "Epoch 20: Training accuracy: 0.575, Validation accuracy: 0.4375\n",
            "Epoch 21: Training accuracy: 0.5725, Validation accuracy: 0.4275\n",
            "Epoch 22: Training accuracy: 0.5685, Validation accuracy: 0.425\n",
            "Epoch 23: Training accuracy: 0.5755, Validation accuracy: 0.425\n",
            "Epoch 24: Training accuracy: 0.5855, Validation accuracy: 0.425\n",
            "Epoch 25: Training accuracy: 0.5825, Validation accuracy: 0.415\n",
            "Epoch 26: Training accuracy: 0.5765, Validation accuracy: 0.415\n",
            "Epoch 27: Training accuracy: 0.5565, Validation accuracy: 0.405\n",
            "Epoch 28: Training accuracy: 0.559, Validation accuracy: 0.395\n",
            "Epoch 29: Training accuracy: 0.5825, Validation accuracy: 0.4125\n",
            "Epoch 30: Training accuracy: 0.5915, Validation accuracy: 0.4125\n",
            "Epoch 31: Training accuracy: 0.587, Validation accuracy: 0.41\n",
            "Epoch 32: Training accuracy: 0.5975, Validation accuracy: 0.4075\n",
            "Epoch 33: Training accuracy: 0.6125, Validation accuracy: 0.43\n",
            "Epoch 34: Training accuracy: 0.62, Validation accuracy: 0.43\n",
            "Epoch 35: Training accuracy: 0.63, Validation accuracy: 0.445\n",
            "Epoch 36: Training accuracy: 0.613, Validation accuracy: 0.43\n",
            "Epoch 37: Training accuracy: 0.615, Validation accuracy: 0.42\n",
            "Epoch 38: Training accuracy: 0.622, Validation accuracy: 0.42\n",
            "Epoch 39: Training accuracy: 0.616, Validation accuracy: 0.4225\n",
            "Epoch 40: Training accuracy: 0.597, Validation accuracy: 0.4075\n",
            "Epoch 41: Training accuracy: 0.581, Validation accuracy: 0.4075\n",
            "Epoch 42: Training accuracy: 0.5955, Validation accuracy: 0.4175\n",
            "Epoch 43: Training accuracy: 0.635, Validation accuracy: 0.4625\n",
            "Epoch 44: Training accuracy: 0.635, Validation accuracy: 0.4375\n",
            "Epoch 45: Training accuracy: 0.6365, Validation accuracy: 0.4375\n",
            "Epoch 46: Training accuracy: 0.6535, Validation accuracy: 0.435\n",
            "Epoch 47: Training accuracy: 0.6585, Validation accuracy: 0.4325\n",
            "Epoch 48: Training accuracy: 0.658, Validation accuracy: 0.43\n",
            "Epoch 49: Training accuracy: 0.6565, Validation accuracy: 0.435\n",
            "Epoch 50: Training accuracy: 0.6415, Validation accuracy: 0.41\n"
          ],
          "name": "stdout"
        },
        {
          "output_type": "display_data",
          "data": {
            "image/png": "[encoded data removed]",
            "text/plain": [
              "<Figure size 432x288 with 1 Axes>"
            ]
          },
          "metadata": {
            "tags": [],
            "needs_background": "light"
          }
        },
        {
          "output_type": "display_data",
          "data": {
            "image/png": "[encoded data removed]",
            "text/plain": [
              "<Figure size 432x288 with 1 Axes>"
            ]
          },
          "metadata": {
            "tags": [],
            "needs_background": "light"
          }
        }
      ]
    },
    {
      "cell_type": "markdown",
      "metadata": {
        "id": "fQxkCQ7U1IIB"
      },
      "source": [
        "## Part 4: AlexNet Transfer Learning"
      ]
    },
    {
      "cell_type": "code",
      "metadata": {
        "id": "4nlA4NlDywkv"
      },
      "source": [
        "import torchvision.models\n",
        "alexnet = torchvision.models.alexnet(pretrained=True)\n",
        "\n",
        "AlexNet_train, AlexNet_valid, AlexNet_test = [], [], []\n",
        "\n",
        "for images, labels in train:\n",
        "    AlexNet_train.append((getcharacterimages(images, False, imgsize=80), labels))\n",
        "AlexNet_train = AlexNet_train[:len(AlexNet_train)-1]\n",
        "\n",
        "for images, labels in valid:\n",
        "    AlexNet_valid.append((getcharacterimages(images, False, imgsize=80), labels))\n",
        "AlexNet_valid = AlexNet_valid[:len(AlexNet_valid)-1]\n",
        "\n",
        "for images, labels in test:\n",
        "    AlexNet_test.append((getcharacterimages(images, False, imgsize=80), labels))\n",
        "AlexNet_test = AlexNet_test[:len(AlexNet_test)-1]"
      ],
      "execution_count": 160,
      "outputs": []
    },
    {
      "cell_type": "code",
      "metadata": {
        "id": "aRKFFUAMP-WD"
      },
      "source": [
        "imgs_train, labels_train = [], []\n",
        "imgs_valid, labels_valid = [], []\n",
        "imgs_test, labels_test = [], []\n",
        "\n",
        "for img, label in AlexNet_train:\n",
        "    img_grey = img.reshape(-1, 1, 80, 80)\n",
        "    label = label.reshape(-1)\n",
        "    img_color = img_grey.repeat(1,3,1,1)\n",
        "    features = torch.from_numpy(alexnet.features(img_color).detach().numpy())\n",
        "    imgs_train.append(features)\n",
        "    labels_train.append(label)\n",
        "\n",
        "for img, label in AlexNet_valid:\n",
        "    img = img.reshape(-1, 1, 80, 80)\n",
        "    label = label.reshape(-1)\n",
        "    img_color = img.repeat(1,3,1,1)\n",
        "    features = torch.from_numpy(alexnet.features(img_color).detach().numpy())\n",
        "    imgs_valid.append(features)\n",
        "    labels_valid.append(label)\n",
        "\n",
        "for img, label in AlexNet_test:\n",
        "    img = img.reshape(-1, 1, 80, 80)\n",
        "    label = label.reshape(-1)\n",
        "    img_color = img.repeat(1,3,1,1)\n",
        "    features = torch.from_numpy(alexnet.features(img_color).detach().numpy())\n",
        "    imgs_test.append(features)\n",
        "    labels_test.append(label)\n",
        "\n",
        "AlexNet_train = list(zip(imgs_train, labels_train))\n",
        "AlexNet_valid = list(zip(imgs_valid, labels_valid))\n",
        "AlexNet_test = list(zip(imgs_test, labels_test))"
      ],
      "execution_count": 161,
      "outputs": []
    },
    {
      "cell_type": "code",
      "metadata": {
        "id": "2t7dtyDqKabA"
      },
      "source": [
        "def get_accuracy_alexnet(model, data_loader):\n",
        "  total = 0\n",
        "  correct = 0\n",
        "  char_correct = 0\n",
        "  for imgs, labels in data_loader:\n",
        "      if torch.cuda.is_available():\n",
        "          imgs = imgs.cuda()\n",
        "          labels = labels.cuda()\n",
        "      output = model(imgs)\n",
        "      pred = output.max(1, keepdim=True)[1].squeeze(1) # get the index of the max logit\n",
        "      for i in range(0, len(output), captcha_length):\n",
        "        num_correct = 0\n",
        "        for j in range(captcha_length):\n",
        "          if labels[i+j] == pred[i+j]:\n",
        "            num_correct += 1\n",
        "            char_correct += 1\n",
        "        if num_correct == 5:\n",
        "          correct += 1\n",
        "        total += 1\n",
        "  return correct / total, char_correct / (5 * total)\n",
        "\n",
        "def train_alexnet(model, x, y, batch_size=128, num_epochs=20, learning_rate=0.001):\n",
        "    torch.manual_seed(360)\n",
        "\n",
        "    criterion = nn.CrossEntropyLoss()\n",
        "    optimizer = optim.Adam(model.parameters(), lr=learning_rate)\n",
        "\n",
        "    train_loader = x\n",
        "    valid_loader = y\n",
        "\n",
        "    iters = []\n",
        "    losses = []\n",
        "    train_acc = []\n",
        "    valid_acc = []\n",
        "\n",
        "    epoch = 0\n",
        "\n",
        "    for epoch in range(num_epochs):\n",
        "        for img, label in train_loader:  \n",
        "            if use_cuda and torch.cuda.is_available():\n",
        "                img = img.cuda()\n",
        "                label = label.cuda()\n",
        "            out = model(img) # forward pass\n",
        "            loss = criterion(out, label) # compute the total loss\n",
        "            loss.backward()  # backward pass (compute parameter updates)\n",
        "            optimizer.step()  # make the updates for each parameter\n",
        "            optimizer.zero_grad()  # a clean up step for PyTorch\n",
        "\n",
        "        # Save the current model (checkpoint) to a file\n",
        "        model_path = get_model_name(model.name, epoch, learning_rate=learning_rate)\n",
        "        torch.save(model.state_dict(), model_path)\n",
        "\n",
        "        # save the current training information\n",
        "        iters.append(epoch)\n",
        "        losses.append(float(loss))  # compute *average* loss\n",
        "        captcha_acc, char_acc = get_accuracy_alexnet(model, train_loader)\n",
        "        train_acc.append(captcha_acc)  # compute training accuracy\n",
        "        if y != None:\n",
        "            captcha_acc, char_acc = get_accuracy_alexnet(model, valid_loader)  # compute validation accuracy\n",
        "            print(f\"char_acc = {char_acc}\")\n",
        "            valid_acc.append(captcha_acc)\n",
        "        if y != None:\n",
        "            print(\n",
        "                (\n",
        "                    \"Epoch {}: Training accuracy: {}, \" + \"Validation accuracy: {}\"\n",
        "                ).format(epoch + 1, train_acc[epoch], valid_acc[epoch])\n",
        "            )\n",
        "        else:\n",
        "            print(\n",
        "                (\"Epoch {}: Training accuracy: {}\").format(epoch + 1, train_acc[epoch])\n",
        "            )\n",
        "        epoch += 1\n",
        "\n",
        "        # model_path = get_model_name(model.name, batch_size, learning_rate, epoch)\n",
        "        # torch.save(model.state_dict(), model_path)\n",
        "    plt.title(\"Loss\")\n",
        "    plt.plot(iters, losses, label=\"Train\")\n",
        "    plt.xlabel(\"Iterations\")\n",
        "    plt.ylabel(\"Loss\")\n",
        "    plt.show()\n",
        "\n",
        "    plt.title(\"Accuracy\")\n",
        "    plt.plot(iters, train_acc, label=\"Train\")\n",
        "    if y != None:\n",
        "        plt.plot(iters, valid_acc, label=\"Validation\")\n",
        "    plt.xlabel(\"Iterations\")\n",
        "    plt.ylabel(\"Accuracy\")\n",
        "    plt.legend(loc=\"best\")\n",
        "    plt.show()\n",
        "\n",
        "    if y != None:\n",
        "        return losses, train_acc, valid_acc\n",
        "    return losses, train_acc"
      ],
      "execution_count": 152,
      "outputs": []
    },
    {
      "cell_type": "code",
      "metadata": {
        "id": "iwK_f89E0w9g"
      },
      "source": [
        "class AlexNetANNClassifier(nn.Module):\n",
        "    def __init__(self):\n",
        "        super(AlexNetANNClassifier, self).__init__()\n",
        "        self.name = \"AlexNetANNClassifier\"\n",
        "        self.fc1 = nn.Linear(256, 64)\n",
        "        self.fc2 = nn.Linear(64, 64)\n",
        "        self.fc3 = nn.Linear(64, 36)\n",
        "\n",
        "    def forward(self, img):\n",
        "        x = img.view(-1, 256)\n",
        "        x = F.relu(self.fc1(x))\n",
        "        x = self.fc2(x)\n",
        "        x = F.relu(x)\n",
        "        x = self.fc3(x)\n",
        "        return x"
      ],
      "execution_count": 154,
      "outputs": []
    },
    {
      "cell_type": "code",
      "metadata": {
        "colab": {
          "base_uri": "https://localhost:8080/",
          "height": 1000
        },
        "id": "W0XnJTF-Nvfc",
        "outputId": "7722a5e5-32b6-4896-b69c-43b3a5789091"
      },
      "source": [
        "model = AlexNetANNClassifier()\n",
        "if torch.cuda.is_available():\n",
        "    model.cuda()\n",
        "\n",
        "losses, train_acc, valid_acc = train_alexnet(model, AlexNet_train, AlexNet_valid, 100, 50, 5e-3)"
      ],
      "execution_count": 171,
      "outputs": [
        {
          "output_type": "stream",
          "text": [
            "char_acc = 0.4465\n",
            "Epoch 1: Training accuracy: 0.0275, Validation accuracy: 0.0325\n",
            "char_acc = 0.575\n",
            "Epoch 2: Training accuracy: 0.087, Validation accuracy: 0.11\n",
            "char_acc = 0.637\n",
            "Epoch 3: Training accuracy: 0.174, Validation accuracy: 0.155\n",
            "char_acc = 0.675\n",
            "Epoch 4: Training accuracy: 0.2225, Validation accuracy: 0.2125\n",
            "char_acc = 0.6885\n",
            "Epoch 5: Training accuracy: 0.2715, Validation accuracy: 0.245\n",
            "char_acc = 0.701\n",
            "Epoch 6: Training accuracy: 0.302, Validation accuracy: 0.2675\n",
            "char_acc = 0.707\n",
            "Epoch 7: Training accuracy: 0.3295, Validation accuracy: 0.285\n",
            "char_acc = 0.711\n",
            "Epoch 8: Training accuracy: 0.3455, Validation accuracy: 0.2825\n",
            "char_acc = 0.7065\n",
            "Epoch 9: Training accuracy: 0.3575, Validation accuracy: 0.27\n",
            "char_acc = 0.7195\n",
            "Epoch 10: Training accuracy: 0.3825, Validation accuracy: 0.285\n",
            "char_acc = 0.7225\n",
            "Epoch 11: Training accuracy: 0.387, Validation accuracy: 0.3\n",
            "char_acc = 0.728\n",
            "Epoch 12: Training accuracy: 0.395, Validation accuracy: 0.3075\n",
            "char_acc = 0.7285\n",
            "Epoch 13: Training accuracy: 0.402, Validation accuracy: 0.33\n",
            "char_acc = 0.724\n",
            "Epoch 14: Training accuracy: 0.406, Validation accuracy: 0.3175\n",
            "char_acc = 0.7185\n",
            "Epoch 15: Training accuracy: 0.418, Validation accuracy: 0.31\n",
            "char_acc = 0.72\n",
            "Epoch 16: Training accuracy: 0.444, Validation accuracy: 0.305\n",
            "char_acc = 0.7235\n",
            "Epoch 17: Training accuracy: 0.447, Validation accuracy: 0.2925\n",
            "char_acc = 0.7265\n",
            "Epoch 18: Training accuracy: 0.4385, Validation accuracy: 0.3\n",
            "char_acc = 0.725\n",
            "Epoch 19: Training accuracy: 0.4455, Validation accuracy: 0.3025\n",
            "char_acc = 0.718\n",
            "Epoch 20: Training accuracy: 0.4665, Validation accuracy: 0.2725\n",
            "char_acc = 0.7225\n",
            "Epoch 21: Training accuracy: 0.4855, Validation accuracy: 0.2975\n",
            "char_acc = 0.726\n",
            "Epoch 22: Training accuracy: 0.468, Validation accuracy: 0.2975\n",
            "char_acc = 0.7255\n",
            "Epoch 23: Training accuracy: 0.4845, Validation accuracy: 0.3075\n",
            "char_acc = 0.725\n",
            "Epoch 24: Training accuracy: 0.5205, Validation accuracy: 0.3025\n",
            "char_acc = 0.7305\n",
            "Epoch 25: Training accuracy: 0.5205, Validation accuracy: 0.315\n",
            "char_acc = 0.7085\n",
            "Epoch 26: Training accuracy: 0.453, Validation accuracy: 0.2725\n",
            "char_acc = 0.713\n",
            "Epoch 27: Training accuracy: 0.48, Validation accuracy: 0.2775\n",
            "char_acc = 0.72\n",
            "Epoch 28: Training accuracy: 0.514, Validation accuracy: 0.28\n",
            "char_acc = 0.7165\n",
            "Epoch 29: Training accuracy: 0.513, Validation accuracy: 0.2825\n",
            "char_acc = 0.709\n",
            "Epoch 30: Training accuracy: 0.507, Validation accuracy: 0.2925\n",
            "char_acc = 0.6985\n",
            "Epoch 31: Training accuracy: 0.4705, Validation accuracy: 0.2575\n",
            "char_acc = 0.712\n",
            "Epoch 32: Training accuracy: 0.5215, Validation accuracy: 0.2725\n",
            "char_acc = 0.7135\n",
            "Epoch 33: Training accuracy: 0.506, Validation accuracy: 0.2675\n",
            "char_acc = 0.7255\n",
            "Epoch 34: Training accuracy: 0.5585, Validation accuracy: 0.3075\n",
            "char_acc = 0.7195\n",
            "Epoch 35: Training accuracy: 0.5535, Validation accuracy: 0.2825\n",
            "char_acc = 0.709\n",
            "Epoch 36: Training accuracy: 0.518, Validation accuracy: 0.265\n",
            "char_acc = 0.704\n",
            "Epoch 37: Training accuracy: 0.522, Validation accuracy: 0.255\n",
            "char_acc = 0.7165\n",
            "Epoch 38: Training accuracy: 0.5645, Validation accuracy: 0.2825\n",
            "char_acc = 0.703\n",
            "Epoch 39: Training accuracy: 0.559, Validation accuracy: 0.2425\n",
            "char_acc = 0.7045\n",
            "Epoch 40: Training accuracy: 0.5575, Validation accuracy: 0.245\n",
            "char_acc = 0.6955\n",
            "Epoch 41: Training accuracy: 0.5365, Validation accuracy: 0.24\n",
            "char_acc = 0.706\n",
            "Epoch 42: Training accuracy: 0.553, Validation accuracy: 0.255\n",
            "char_acc = 0.7085\n",
            "Epoch 43: Training accuracy: 0.56, Validation accuracy: 0.2625\n",
            "char_acc = 0.6965\n",
            "Epoch 44: Training accuracy: 0.5585, Validation accuracy: 0.255\n",
            "char_acc = 0.702\n",
            "Epoch 45: Training accuracy: 0.588, Validation accuracy: 0.24\n",
            "char_acc = 0.7065\n",
            "Epoch 46: Training accuracy: 0.596, Validation accuracy: 0.2725\n",
            "char_acc = 0.7195\n",
            "Epoch 47: Training accuracy: 0.639, Validation accuracy: 0.285\n",
            "char_acc = 0.7205\n",
            "Epoch 48: Training accuracy: 0.6215, Validation accuracy: 0.2875\n",
            "char_acc = 0.7145\n",
            "Epoch 49: Training accuracy: 0.6315, Validation accuracy: 0.265\n",
            "char_acc = 0.705\n",
            "Epoch 50: Training accuracy: 0.6045, Validation accuracy: 0.255\n"
          ],
          "name": "stdout"
        },
        {
          "output_type": "display_data",
          "data": {
            "image/png": "[encoded data removed]",
            "text/plain": [
              "<Figure size 432x288 with 1 Axes>"
            ]
          },
          "metadata": {
            "tags": [],
            "needs_background": "light"
          }
        },
        {
          "output_type": "display_data",
          "data": {
            "image/png": "[encoded data removed]",
            "text/plain": [
              "<Figure size 432x288 with 1 Axes>"
            ]
          },
          "metadata": {
            "tags": [],
            "needs_background": "light"
          }
        }
      ]
    },
    {
      "cell_type": "markdown",
      "metadata": {
        "id": "GO3EEOxf4dv5"
      },
      "source": [
        "## Part 5: End-to-End System\n",
        "\n",
        "* decoding value -> char\n",
        "* wrapper for model\n",
        "* function(CAPTCHA_Image) => character string\n",
        "  * Segmentation\n",
        "  * CNN Model\n",
        "  * Output prediction\n",
        "  * Print input CAPTCHA"
      ]
    },
    {
      "cell_type": "code",
      "metadata": {
        "id": "e1Pmj9q04iqq"
      },
      "source": [
        "def decodeCharacter (encodedValue):\n",
        "  if (encodedValue < 10):\n",
        "    return encodedValue\n",
        "  else:\n",
        "    return chr(encodedValue + 55)"
      ],
      "execution_count": 156,
      "outputs": []
    },
    {
      "cell_type": "code",
      "metadata": {
        "id": "ia7vuqXlM9jO"
      },
      "source": [
        "def e2emodel (input_image, input_labels):\n",
        "  model = CaptchaCNN()\n",
        "  model.load_state_dict(torch.load(get_model_name(model.name, epoch=20, learning_rate=0.005)))\n",
        "\n",
        "  imgs = input_image\n",
        "  labels = input_labels\n",
        "\n",
        "  # Plot batch of images\n",
        "  fig = plt.figure(figsize=(28, 28))\n",
        "  for idx in np.arange(5):\n",
        "      ax = fig.add_subplot(3, 9, idx+1, xticks=[], yticks=[])\n",
        "      plt.imshow(imgs[idx])\n",
        "      ax.set_title(labels[idx])\n",
        "\n",
        "  # Prediction\n",
        "  out = model(imgs.reshape(-1, 1, 28, 28))\n",
        "  pred = out.max(1, keepdim=True)[1].squeeze(1).tolist()\n",
        "  CAPTCHA_prediction = list(map(decodeCharacter, pred))\n",
        "  print(f\"Predicted output = {CAPTCHA_prediction}\")"
      ],
      "execution_count": 304,
      "outputs": []
    },
    {
      "cell_type": "code",
      "metadata": {
        "colab": {
          "base_uri": "https://localhost:8080/",
          "height": 215
        },
        "id": "diXyD3r0aYyk",
        "outputId": "33768c4a-2c97-4629-c069-3a602026e17b"
      },
      "source": [
        "# Random sample from CNN_test\n",
        "rand_batch = random.randint(0, len(CNN_test)-1)\n",
        "rand_sample = random.randint(0, len(CNN_test[0][0])-1)\n",
        "\n",
        "# Pass into e2e model\n",
        "imgs = CNN_test[rand_batch][0][rand_sample]\n",
        "labels = list(map(decodeCharacter, CNN_test[rand_batch][1][rand_sample].tolist()))\n",
        "e2emodel(imgs, labels)"
      ],
      "execution_count": 305,
      "outputs": [
        {
          "output_type": "stream",
          "text": [
            "Predicted output = ['P', 'F', 1, 'Z', 'J']\n"
          ],
          "name": "stdout"
        },
        {
          "output_type": "display_data",
          "data": {
            "image/png": "[encoded data removed]",
            "text/plain": [
              "<Figure size 2016x2016 with 5 Axes>"
            ]
          },
          "metadata": {
            "tags": []
          }
        }
      ]
    }
  ]
}