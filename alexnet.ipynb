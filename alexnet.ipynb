{
  "nbformat": 4,
  "nbformat_minor": 0,
  "metadata": {
    "colab": {
      "name": "primary_model.ipynb",
      "provenance": [],
      "collapsed_sections": [],
      "toc_visible": true
    },
    "kernelspec": {
      "name": "python3",
      "display_name": "Python 3"
    }
  },
  "cells": [
    {
      "cell_type": "markdown",
      "metadata": {
        "id": "vpgUuwmrWdTi"
      },
      "source": [
        "# Captcha Bypass\n",
        "\n",
        "**Team 99**\n",
        "\n",
        "Pranavbhai Patel\n",
        "\n",
        "Nicholas Leung\n",
        "\n",
        "Coden Mercurius\n",
        "\n",
        "Ravi Singh\n",
        "\n",
        "**Description**\n",
        "\n",
        "CAPTCHA, or Completely Automated Public Turing Test to Tell Computers and Humans Apart, is a challenge-response test that determines whether a user is authentic (human) or inauthentic (machine). They require users to authenticate themselves by retyping a character sequence prior to completing a request. This notebook implements a CAPTCHA bypass using deep learning. The team aims to investigate weaknesses and vulnerabilities of the CAPTCHA system."
      ]
    },
    {
      "cell_type": "code",
      "metadata": {
        "id": "X5bj7jdWkZ2K"
      },
      "source": [
        "import torch\n",
        "import torch.nn as nn\n",
        "import os\n",
        "from skimage import io\n",
        "from torch.utils.data import Dataset, DataLoader\n",
        "import torch.utils.data\n",
        "import torchvision \n",
        "from torchvision import datasets, transforms\n",
        "import matplotlib.pyplot as plt\n",
        "import numpy as np\n",
        "import time"
      ],
      "execution_count": null,
      "outputs": []
    },
    {
      "cell_type": "markdown",
      "metadata": {
        "id": "hpLX9Jc1Xl2o"
      },
      "source": [
        "## Part 1. Data Processing\n",
        "\n",
        "The dataset for this model is generated using the following library: https://github.com/lepture/captcha. No additional data augmentation is performed at this time. The code used to generate the dataset is found in the team private repo and is named `dataset_generator.py`.\n",
        "\n",
        "**Current Dataset Characteristics:**\n",
        "- Uniform distribution of characters used\n",
        "- Numerical characters only\n",
        "\n",
        "The generated dataset is availiable through the team private repo. Upload `dataset.zip` into the root session storage and run the below cell to unzip."
      ]
    },
    {
      "cell_type": "code",
      "metadata": {
        "id": "_jHHqUmAHun2"
      },
      "source": [
        "!unzip  /content/dataset.zip -d /content/"
      ],
      "execution_count": null,
      "outputs": []
    },
    {
      "cell_type": "code",
      "metadata": {
        "id": "n1QRiBOmkLiD"
      },
      "source": [
        "class CaptchaDataset(Dataset):\n",
        "  \"\"\" Captcha Dataset \"\"\"\n",
        "\n",
        "  def __init__(self, directory, character_set):\n",
        "    self.directory = directory\n",
        "    self.captchas = os.listdir(directory)\n",
        "    self.transform = transforms.Compose(\n",
        "        [transforms.ToTensor(),\n",
        "         transforms.Normalize((0.5, 0.5, 0.5), (0.5, 0.5, 0.5))])\n",
        "    self.character_set = character_set\n",
        "    self.characters_to_identifier = {}\n",
        "\n",
        "    for i in range(len(character_set)):\n",
        "      self.characters_to_identifier.update({ character_set[i]: i })\n",
        "\n",
        "  def __len__(self):\n",
        "    # Assumes each file in the dataset directory represents a data sample\n",
        "    return len(self.captchas)\n",
        "\n",
        "  def __getitem__(self, index):\n",
        "    sample_name = self.captchas[index]\n",
        "    sample_captcha_values = list(sample_name[0:-4]) # Slice s.t. remove png file extension\n",
        "\n",
        "    # Read the image and represent it as a tensor\n",
        "    image = io.imread(self.directory + '/' + sample_name)\n",
        "    image = self.transform(image)\n",
        "\n",
        "    # Represent each character as an integer identifier\n",
        "    label = []\n",
        "    for char in sample_captcha_values:\n",
        "      label.append(self.characters_to_identifier.get(char))\n",
        "\n",
        "    return (image, torch.tensor(label))"
      ],
      "execution_count": null,
      "outputs": []
    },
    {
      "cell_type": "code",
      "metadata": {
        "id": "369gvdfelzTC"
      },
      "source": [
        "# Instantiate dataset\n",
        "character_set = ['0', '1', '2', '3', '4', '5', '6', '7', '8', '9'] # List of characters used in dataset\n",
        "\n",
        "dataset = CaptchaDataset(\"/content/dataset\", character_set)\n",
        "#dataset = CaptchaDataset(\"/dataset\", character_set)\n",
        "\n",
        "character_frequency = {} # Contains frequency information\n",
        "\n",
        "# Populate character_frequency\n",
        "for _, label in dataset:\n",
        "  for char_identifier in label:\n",
        "    char = character_set[char_identifier.item()]\n",
        "    current_value = character_frequency.get(char, None)\n",
        "\n",
        "    if current_value is None: \n",
        "      character_frequency.update({ char : 0 })\n",
        "    else:\n",
        "      character_frequency.update({ char : current_value + 1 })"
      ],
      "execution_count": null,
      "outputs": []
    },
    {
      "cell_type": "code",
      "metadata": {
        "colab": {
          "base_uri": "https://localhost:8080/",
          "height": 295
        },
        "id": "CKOpRG17wP_d",
        "outputId": "26fb9266-3396-4b07-a959-1917e18b49fa"
      },
      "source": [
        "# Dataset visualization\n",
        "\n",
        "x_values = range(len(character_set))\n",
        "y_values = []\n",
        "\n",
        "for char in character_set:\n",
        "  count = character_frequency.get(char)\n",
        "  y_values.append(count)\n",
        "\n",
        "plt.title(\"Character frequency in dataset\")\n",
        "plt.plot(x_values, y_values)\n",
        "plt.xlabel(\"Characters\")\n",
        "plt.ylabel(\"Count\")\n",
        "plt.xticks(x_values, character_set)\n",
        "plt.show()\n"
      ],
      "execution_count": null,
      "outputs": [
        {
          "output_type": "display_data",
          "data": {
            "image/png": "[encoded data removed]",
            "text/plain": [
              "<Figure size 432x288 with 1 Axes>"
            ]
          },
          "metadata": {
            "tags": [],
            "needs_background": "light"
          }
        }
      ]
    },
    {
      "cell_type": "code",
      "metadata": {
        "id": "YGzF8YBvzBhk"
      },
      "source": [
        "def get_data_loaders(dataset, batch_size):\n",
        "\n",
        "  training_ratio = 0.7\n",
        "  validation_ratio = 0.15\n",
        "  # test_ratio implied\n",
        "\n",
        "  train_length = int(len(dataset) * training_ratio)\n",
        "  validation_length = int((len(dataset) - train_length) * (validation_ratio / ( 1 - training_ratio )))\n",
        "  test_length = len(dataset) - train_length - validation_length\n",
        "  \n",
        "  train_set, valid_set, test_set = torch.utils.data.random_split(dataset, [train_length, validation_length, test_length], torch.Generator().manual_seed(10))\n",
        "\n",
        "  # REMINDER: Data is not shuffled per epoch, we may want this\n",
        "  train_loader = torch.utils.data.DataLoader(train_set, batch_size=batch_size, num_workers=1)\n",
        "  valid_loader = torch.utils.data.DataLoader(valid_set, batch_size=batch_size, num_workers=1)\n",
        "  test_loader = torch.utils.data.DataLoader(test_set, batch_size=batch_size, num_workers=1)\n",
        "\n",
        "  return train_loader, valid_loader, test_loader\n"
      ],
      "execution_count": null,
      "outputs": []
    },
    {
      "cell_type": "markdown",
      "metadata": {
        "id": "ERhHo2hsCbZN"
      },
      "source": [
        "## Part 2: CAPTCHA Segmentation"
      ]
    },
    {
      "cell_type": "code",
      "metadata": {
        "id": "U3GEs9UA79cx"
      },
      "source": [
        "import random\n",
        "import cv2\n",
        "import torchvision as tv"
      ],
      "execution_count": null,
      "outputs": []
    },
    {
      "cell_type": "code",
      "metadata": {
        "id": "j6KWaxmnp7-M"
      },
      "source": [
        "def processimage(image,thresh):\n",
        "      # Format image type / dimensions\n",
        "      image=image.permute(1,2,0)\n",
        "      image=image.numpy()\n",
        "      imageorig=image\n",
        "      \n",
        "      # Modify image so contours / borders can be easily found\n",
        "      # Greyscale\n",
        "      image = cv2.cvtColor(image, cv2.COLOR_RGB2GRAY)\n",
        "      # Binary Threshold\n",
        "      NA, image = cv2.threshold(image, thresh, 1, cv2.THRESH_BINARY)\n",
        "      # Erosion\n",
        "      kernel = np.ones((2,2),np.uint8)\n",
        "      image = cv2.dilate(image,kernel,iterations = 1)\n",
        "      # Vertical Blur and Resharpen\n",
        "      morpher = cv2.getStructuringElement(cv2.MORPH_RECT, (1,3))\n",
        "      image = cv2.morphologyEx(image, cv2.MORPH_CLOSE, morpher)\n",
        "      # Binary Threshold  \n",
        "      thresh, image = cv2.threshold(image,thresh, 1, cv2.THRESH_BINARY)\n",
        "      # Expand Border\n",
        "      image=cv2.copyMakeBorder(image, 5, 5, 5, 5,cv2.BORDER_CONSTANT,value=1)\n",
        "      image = image.astype(np.uint8)\n",
        "\n",
        "      return imageorig, image"
      ],
      "execution_count": null,
      "outputs": []
    },
    {
      "cell_type": "code",
      "metadata": {
        "id": "9dW5ETYs4JYh"
      },
      "source": [
        "def segmentimage(image,narrow):\n",
        "    # Return list of borderlines in image\n",
        "    contours, hierarchy = cv2.findContours(image, cv2.RETR_TREE, cv2.CHAIN_APPROX_SIMPLE)\n",
        "    # imagecont=cv2.drawContours(image, contours, -1, (0, 0.5, 0), 1)\n",
        "\n",
        "    # Creates boxes for every large object\n",
        "    boxes=[]\n",
        "    for contour in contours:\n",
        "        [x,y,w,h]=cv2.boundingRect(contour)\n",
        "        if(w>8 and w<120 and h>30):\n",
        "          boxes.append([x,y,w,h])\n",
        "    boxes.sort(key=lambda x: x[0])\n",
        "\n",
        "    # Eliminates boxes that are contained whithin other boxes (subparts of a letter)\n",
        "    i=1\n",
        "    while (i<len(boxes)):\n",
        "      box=boxes[i]\n",
        "      boxprev=boxes[i-1]\n",
        "      if (box[0]>boxprev[0] and box[1]>boxprev[1] and (box[0]+box[2])<(boxprev[0]+boxprev[2]) and (box[1]+box[3])<(boxprev[1]+boxprev[3])):\n",
        "        boxes.pop(i)\n",
        "        i-=1\n",
        "      i+=1\n",
        "\n",
        "    # If boxes are too wide they may contain multiple boxes \n",
        "    # They are split vertically into 2 or 3 subboxes (even width splits)\n",
        "    i=0\n",
        "    while (i<len(boxes)):\n",
        "      box=boxes[i]\n",
        "      if (box[2]>box[3]*(0.95-narrow)):\n",
        "        x,y,w,h=boxes.pop(i)\n",
        "        boxes.insert(i,[x+int((2*w)/3),y,int(w/3),h])\n",
        "        boxes.insert(i,[x+int((w)/3),y,int(w/3),h])\n",
        "        boxes.insert(i,[x,y,int(w/3),h])\n",
        "      elif (box[2]>box[3]*(0.6-narrow)):\n",
        "        x,y,w,h=boxes.pop(i)\n",
        "        boxes.insert(i,[x+int(w/2),y,int(w/2),h])\n",
        "        boxes.insert(i,[x,y,int(w/2),h])\n",
        "      if (i>=len(boxes)-1):\n",
        "        break\n",
        "      i+=1\n",
        "    \n",
        "    return boxes"
      ],
      "execution_count": null,
      "outputs": []
    },
    {
      "cell_type": "code",
      "metadata": {
        "id": "e_n7nFlRJ3Nd"
      },
      "source": [
        "def get_character_images(images, showsegments=False):\n",
        "  characters=[]\n",
        "  for i in range (0,len(images)):\n",
        "    imageraw = images[i]\n",
        " \n",
        "    #CAPTCHA image pre-processed, custom function called\n",
        "    #Rectangle Borders of each character obtained, custom function called\n",
        "    for i in range(0,7):\n",
        "      thresh, narrow = 0.6,0\n",
        "      if (i>=1):\n",
        "        narrow=0.1\n",
        "        thresh=0.6+(i-1)*0.1\n",
        "      imageorig, image=processimage(imageraw,thresh)\n",
        "      imageboxes = np.copy(image)\n",
        "      boxes=segmentimage(image,narrow)\n",
        "      # print(thresh,narrow)\n",
        "      if (len(boxes)>=5):\n",
        "        break\n",
        "      \n",
        "\n",
        "    #Individual Characters images are cut out from CAPTCHA image\n",
        "    charactersset=[]\n",
        "    for i in range(0,5):\n",
        "      #If insufficient letters obtainable, add an empty image\n",
        "      if (i<len(boxes)):\n",
        "        box=boxes[i]\n",
        "      else:\n",
        "        box=[0,0,1,1]\n",
        "      [x,y,w,h]=box\n",
        "      char=image[y:y+h,x:x+w]\n",
        "      height=char.shape[0]\n",
        "      width=char.shape[1]\n",
        "      #cv2.copyMakeBorder(soruce, top, bottom, left, right, borderType, value)\n",
        "      if (width>height):\n",
        "        char=cv2.copyMakeBorder(char, int ((width-height)/2),int ((width-height)/2), 0, 0,cv2.BORDER_CONSTANT,value=1)\n",
        "      if (height>width):\n",
        "        char=cv2.copyMakeBorder(char,0,0, int ((height-width)/2), int ((height-width)/2),cv2.BORDER_CONSTANT,value=1)\n",
        "      char = cv2.resize(char, dsize=(80, 80), interpolation=cv2.INTER_CUBIC)\n",
        "      char=torch.Tensor(char)\n",
        "      charactersset.append(char)\n",
        "      cv2.rectangle(imageboxes,(x,y),(x+w,y+h),0,1)\n",
        "    charactersset=torch.stack(charactersset)\n",
        "    characters.append(charactersset)\n",
        "    \n",
        "    if (showsegments==True):\n",
        "      plt.imshow(imageorig)\n",
        "      plt.show()\n",
        "      plt.imshow(imageboxes, cmap='gray', vmin = 0, vmax = 1)\n",
        "      plt.show()\n",
        "      for i in range(0,5):\n",
        "        plt.subplot(1,5,i+1)\n",
        "        plt.imshow(charactersset[i], cmap='gray', vmin = 0, vmax = 1)\n",
        "      plt.show()\n",
        "\n",
        "  return torch.stack(characters)"
      ],
      "execution_count": null,
      "outputs": []
    },
    {
      "cell_type": "code",
      "metadata": {
        "id": "CUDC0_52dpmD"
      },
      "source": [
        "\"\"\"\n",
        "How To Use - getcharacterimages(images, showsegments=False)\n",
        "\n",
        "Input = tensor(batchsize, numchannels, height, width) (see below)\n",
        "Output = tensor(batchsize, numcharacters = 5, height = 80, width = 80 )\n",
        "\n",
        "Turn showsegments on to visualize segmentation process\n",
        "\"\"\"\n",
        "train, valid, test = get_data_loaders(dataset, 100)\n",
        "\n",
        "CNN_train = []\n",
        "\n",
        "for images, labels in train:\n",
        "  CNN_train.append((get_character_images(images, False), labels))\n",
        "\n",
        "# last batch is not of size 100, remove it\n",
        "CNN_train = CNN_train[:13]\n",
        "\n",
        "# for images, labels in test:\n",
        "#   characters = get_character_images(images, True, False)"
      ],
      "execution_count": null,
      "outputs": []
    },
    {
      "cell_type": "markdown",
      "metadata": {
        "id": "UpTP5Fe5zrL3"
      },
      "source": [
        "## Part 3: Primary Model"
      ]
    },
    {
      "cell_type": "code",
      "metadata": {
        "id": "R4tryOo9SEQt"
      },
      "source": [
        "import torch.nn.functional as F\n",
        "import torch.optim as optim\n",
        "import pandas as pd"
      ],
      "execution_count": null,
      "outputs": []
    },
    {
      "cell_type": "code",
      "metadata": {
        "id": "B-n0cYyCqep0"
      },
      "source": [
        "use_cuda = True"
      ],
      "execution_count": null,
      "outputs": []
    },
    {
      "cell_type": "code",
      "metadata": {
        "id": "Bn_e3FRQ2yBC"
      },
      "source": [
        "# Sample CNN based on Lab 2 model\n",
        "class CaptchaCNN(nn.Module):\n",
        "    def __init__(self):\n",
        "        super(CaptchaCNN, self).__init__()\n",
        "\n",
        "        # 5 chars, 5,5 we decide\n",
        "        self.conv1 = nn.Conv2d(1, 5, 5)\n",
        "        # w,h = \n",
        "        self.pool1 = nn.MaxPool2d(2, 2)\n",
        "        # w,h = \n",
        "\n",
        "        # 5 matches the second 5 from the first CNN layer\n",
        "        self.conv2 = nn.Conv2d(5, 10, 5)\n",
        "        # w,h =\n",
        "        self.pool2 = nn.MaxPool2d(2,2)\n",
        "        # w,h = \n",
        "\n",
        "        self.fc1 = nn.Linear(160, 32)\n",
        "        self.fc2 = nn.Linear(32, 10)\n",
        "\n",
        "    def forward(self, img):\n",
        "        x = self.pool1(F.relu(self.conv1(img)))\n",
        "        x = self.pool2(F.relu(self.conv2(x)))\n",
        "        x = x.view(-1, 160)\n",
        "        return self.fc2(F.relu(self.fc1(x)))"
      ],
      "execution_count": null,
      "outputs": []
    },
    {
      "cell_type": "code",
      "metadata": {
        "id": "IOKGyXUTThV1"
      },
      "source": [
        "def plot(title, xlabel, ylabel, data1, data1_label, data2, data2_label, epochs):\n",
        "    plt.title(title)\n",
        "    plt.plot(epochs, data1, label=data1_label)\n",
        "    if data2 is not None:\n",
        "      plt.plot(epochs, data2, label=data2_label)\n",
        "    plt.xlabel(xlabel)\n",
        "    plt.ylabel(ylabel)\n",
        "    plt.legend(loc='best')\n",
        "    plt.show()"
      ],
      "execution_count": null,
      "outputs": []
    },
    {
      "cell_type": "code",
      "metadata": {
        "id": "I8UOugulJZog"
      },
      "source": [
        "captcha_length = 5\n",
        "batch_size = 100"
      ],
      "execution_count": null,
      "outputs": []
    },
    {
      "cell_type": "code",
      "metadata": {
        "id": "QABXBjeRDNpY"
      },
      "source": [
        "def get_accuracy(model, data_loader):\n",
        "  total = 0\n",
        "  correct = 0\n",
        "  char_correct = 0\n",
        "  for imgs, labels in data_loader:\n",
        "      if torch.cuda.is_available():\n",
        "          imgs = imgs.cuda()\n",
        "          labels = labels.cuda()\n",
        "      for i in range(batch_size):\n",
        "        output = model(imgs[i].reshape(-1, 1, 28, 28))\n",
        "        pred = output.max(1, keepdim=True)[1] # get the index of the max logit\n",
        "        num_correct = 0\n",
        "        for j in range(captcha_length): \n",
        "          # print(labels[i][j])\n",
        "          # print(pred[j])\n",
        "          if labels[i][j] == pred[j].squeeze(0):\n",
        "            num_correct += 1\n",
        "            char_correct += 1\n",
        "          # print(num_correct)\n",
        "        if num_correct == 5:\n",
        "          correct += 1\n",
        "        total += 1\n",
        "  return correct / total, char_correct / (5 * total)"
      ],
      "execution_count": null,
      "outputs": []
    },
    {
      "cell_type": "code",
      "metadata": {
        "id": "6-Mvd6TdTs1m"
      },
      "source": [
        "def train(model, x, y, batch_size=128, num_epochs=20, learning_rate=0.001):\n",
        "    torch.manual_seed(360)\n",
        "\n",
        "    criterion = nn.CrossEntropyLoss()\n",
        "    optimizer = optim.Adam(model.parameters(), lr=learning_rate)\n",
        "\n",
        "    train_loader = x\n",
        "    valid_loader = y\n",
        "\n",
        "    iters = []\n",
        "    losses = []\n",
        "    train_acc = []\n",
        "    valid_acc = []\n",
        "\n",
        "    epoch = 0\n",
        "\n",
        "    for epoch in range(num_epochs):\n",
        "        for img, label in train_loader:  \n",
        "            img = img.reshape(-1, 1, 28, 28)\n",
        "            label = label.reshape(-1)\n",
        "            if use_cuda and torch.cuda.is_available():\n",
        "                imgs = imgs.cuda()\n",
        "                labels = labels.cuda()\n",
        "            out = model(img) # forward pass\n",
        "            loss = criterion(out, label) # compute the total loss\n",
        "            loss.backward()  # backward pass (compute parameter updates)\n",
        "            optimizer.step()  # make the updates for each parameter\n",
        "            optimizer.zero_grad()  # a clean up step for PyTorch\n",
        "\n",
        "            # save the current training information\n",
        "        iters.append(epoch)\n",
        "        losses.append(float(loss))  # compute *average* loss\n",
        "        captcha_acc, char_acc = get_accuracy(model, train_loader)\n",
        "        print(f\"char_acc = {char_acc}\")\n",
        "        train_acc.append(captcha_acc)  # compute training accuracy\n",
        "        if y != None:\n",
        "            valid_acc.append(\n",
        "                get_accuracy(model, valid_loader)[0]\n",
        "            )  # compute validation accuracy\n",
        "        if y != None:\n",
        "            print(\n",
        "                (\n",
        "                    \"Epoch {}: Training accuracy: {}, \" + \"Validation accuracy: {}\"\n",
        "                ).format(epoch + 1, train_acc[epoch], valid_acc[epoch])\n",
        "            )\n",
        "        else:\n",
        "            print(\n",
        "                (\"Epoch {}: Training accuracy: {}\").format(epoch + 1, train_acc[epoch])\n",
        "            )\n",
        "        epoch += 1\n",
        "\n",
        "        # model_path = get_model_name(model.name, batch_size, learning_rate, epoch)\n",
        "        # torch.save(model.state_dict(), model_path)\n",
        "    plt.title(\"Loss\")\n",
        "    plt.plot(iters, losses, label=\"Train\")\n",
        "    plt.xlabel(\"Iterations\")\n",
        "    plt.ylabel(\"Loss\")\n",
        "    plt.show()\n",
        "\n",
        "    plt.title(\"Accuracy\")\n",
        "    plt.plot(iters, train_acc, label=\"Train\")\n",
        "    if y != None:\n",
        "        plt.plot(iters, valid_acc, label=\"Validation\")\n",
        "    plt.xlabel(\"Iterations\")\n",
        "    plt.ylabel(\"Accuracy\")\n",
        "    plt.legend(loc=\"best\")\n",
        "    plt.show()\n",
        "\n",
        "    if y != None:\n",
        "        return losses, train_acc, valid_acc\n",
        "    return losses, train_acc"
      ],
      "execution_count": null,
      "outputs": []
    },
    {
      "cell_type": "code",
      "metadata": {
        "id": "6dg7J9KopNQ7"
      },
      "source": [
        "model = CaptchaCNN()\n",
        "losses, train_acc = train(model, CNN_train, None, 100, 50, 1e-3)"
      ],
      "execution_count": null,
      "outputs": []
    },
    {
      "cell_type": "markdown",
      "metadata": {
        "id": "fQxkCQ7U1IIB"
      },
      "source": [
        "## Part 4: AlexNet Transfer Learning"
      ]
    },
    {
      "cell_type": "code",
      "metadata": {
        "id": "VyXt1gJf_7gR"
      },
      "source": [
        "!mkdir -p /content/AlexNet/features"
      ],
      "execution_count": null,
      "outputs": []
    },
    {
      "cell_type": "code",
      "metadata": {
        "id": "4nlA4NlDywkv"
      },
      "source": [
        "import torchvision.models\n",
        "alexnet = torchvision.models.alexnet(pretrained=True)\n",
        "\n",
        "imgs, labels = [], []\n",
        "\n",
        "for img, label in CNN_train:\n",
        "    img = img.reshape(-1, 1, 80, 80)\n",
        "    label = label.reshape(-1)\n",
        "    img_color = img.repeat(1,3,1,1)\n",
        "    features = torch.from_numpy(alexnet.features(img_color).detach().numpy())\n",
        "    imgs.append(features)\n",
        "    labels.append(label)\n",
        "\n",
        "AlexNet_train = list(zip(imgs, labels))"
      ],
      "execution_count": null,
      "outputs": []
    },
    {
      "cell_type": "code",
      "metadata": {
        "id": "2t7dtyDqKabA"
      },
      "source": [
        "def get_accuracy_alexnet(model, data_loader):\n",
        "  total = 0\n",
        "  correct = 0\n",
        "  char_correct = 0\n",
        "  for imgs, labels in data_loader:\n",
        "      if torch.cuda.is_available():\n",
        "          imgs = imgs.cuda()\n",
        "          labels = labels.cuda()\n",
        "      output = model(imgs)\n",
        "      pred = output.max(1, keepdim=True)[1].squeeze(1) # get the index of the max logit\n",
        "      for i in range(0, len(output), captcha_length):\n",
        "        num_correct = 0\n",
        "        for j in range(captcha_length):\n",
        "          if labels[i+j] == pred[i+j]:\n",
        "            num_correct += 1\n",
        "            char_correct += 1\n",
        "        if num_correct == 5:\n",
        "          correct += 1\n",
        "        total += 1\n",
        "  return correct / total, char_correct / (5 * total)\n",
        "\n",
        "def train_alexnet(model, x, y, batch_size=128, num_epochs=20, learning_rate=0.001):\n",
        "    torch.manual_seed(360)\n",
        "\n",
        "    criterion = nn.CrossEntropyLoss()\n",
        "    optimizer = optim.Adam(model.parameters(), lr=learning_rate)\n",
        "\n",
        "    train_loader = x\n",
        "    valid_loader = y\n",
        "\n",
        "    iters = []\n",
        "    losses = []\n",
        "    train_acc = []\n",
        "    valid_acc = []\n",
        "\n",
        "    epoch = 0\n",
        "\n",
        "    for epoch in range(num_epochs):\n",
        "        for img, label in train_loader:  \n",
        "            if use_cuda and torch.cuda.is_available():\n",
        "                img = img.cuda()\n",
        "                label = label.cuda()\n",
        "            out = model(img) # forward pass\n",
        "            loss = criterion(out, label) # compute the total loss\n",
        "            loss.backward()  # backward pass (compute parameter updates)\n",
        "            optimizer.step()  # make the updates for each parameter\n",
        "            optimizer.zero_grad()  # a clean up step for PyTorch\n",
        "\n",
        "            # save the current training information\n",
        "        iters.append(epoch)\n",
        "        losses.append(float(loss))  # compute *average* loss\n",
        "        captcha_acc, char_acc = get_accuracy_alexnet(model, train_loader)\n",
        "        print(f\"char_acc = {char_acc}\")\n",
        "        train_acc.append(captcha_acc)  # compute training accuracy\n",
        "        if y != None:\n",
        "            valid_acc.append(\n",
        "                get_accuracy_alexnet(model, valid_loader)[0]\n",
        "            )  # compute validation accuracy\n",
        "        if y != None:\n",
        "            print(\n",
        "                (\n",
        "                    \"Epoch {}: Training accuracy: {}, \" + \"Validation accuracy: {}\"\n",
        "                ).format(epoch + 1, train_acc[epoch], valid_acc[epoch])\n",
        "            )\n",
        "        else:\n",
        "            print(\n",
        "                (\"Epoch {}: Training accuracy: {}\").format(epoch + 1, train_acc[epoch])\n",
        "            )\n",
        "        epoch += 1\n",
        "\n",
        "        # model_path = get_model_name(model.name, batch_size, learning_rate, epoch)\n",
        "        # torch.save(model.state_dict(), model_path)\n",
        "    plt.title(\"Loss\")\n",
        "    plt.plot(iters, losses, label=\"Train\")\n",
        "    plt.xlabel(\"Iterations\")\n",
        "    plt.ylabel(\"Loss\")\n",
        "    plt.show()\n",
        "\n",
        "    plt.title(\"Accuracy\")\n",
        "    plt.plot(iters, train_acc, label=\"Train\")\n",
        "    if y != None:\n",
        "        plt.plot(iters, valid_acc, label=\"Validation\")\n",
        "    plt.xlabel(\"Iterations\")\n",
        "    plt.ylabel(\"Accuracy\")\n",
        "    plt.legend(loc=\"best\")\n",
        "    plt.show()\n",
        "\n",
        "    if y != None:\n",
        "        return losses, train_acc, valid_acc\n",
        "    return losses, train_acc"
      ],
      "execution_count": null,
      "outputs": []
    },
    {
      "cell_type": "code",
      "metadata": {
        "id": "iwK_f89E0w9g"
      },
      "source": [
        "class AlexNetANNClassifier(nn.Module):\n",
        "    def __init__(self):\n",
        "        super(AlexNetANNClassifier, self).__init__()\n",
        "        self.name = \"AlexNetANNClassifier\"\n",
        "        self.fc1 = nn.Linear(256, 128)\n",
        "        self.fc2 = nn.Linear(128, 128)\n",
        "        self.fc3 = nn.Linear(128, 10)\n",
        "\n",
        "    def forward(self, img):\n",
        "        x = img.view(-1, 256)\n",
        "        x = F.relu(self.fc1(x))\n",
        "        x = self.fc2(x)\n",
        "        x = F.relu(x)\n",
        "        x = self.fc3(x)\n",
        "        return x"
      ],
      "execution_count": null,
      "outputs": []
    },
    {
      "cell_type": "code",
      "metadata": {
        "colab": {
          "base_uri": "https://localhost:8080/",
          "height": 1000
        },
        "id": "W0XnJTF-Nvfc",
        "outputId": "347508bf-1ccd-4b37-90c0-19bcd5ade900"
      },
      "source": [
        "model = AlexNetANNClassifier()\n",
        "if torch.cuda.is_available():\n",
        "    model.cuda()\n",
        "\n",
        "# print(len(AlexNet_train[0][0]))\n",
        "losses, train_acc = train_alexnet(model, AlexNet_train, None, 100, 50, 1e-3)"
      ],
      "execution_count": null,
      "outputs": [
        {
          "output_type": "stream",
          "text": [
            "char_acc = 0.6603076923076923\n",
            "Epoch 1: Training accuracy: 0.14384615384615385\n",
            "char_acc = 0.7524615384615385\n",
            "Epoch 2: Training accuracy: 0.28692307692307695\n",
            "char_acc = 0.8058461538461539\n",
            "Epoch 3: Training accuracy: 0.40923076923076923\n",
            "char_acc = 0.8398461538461538\n",
            "Epoch 4: Training accuracy: 0.5023076923076923\n",
            "char_acc = 0.866\n",
            "Epoch 5: Training accuracy: 0.5869230769230769\n",
            "char_acc = 0.8786153846153846\n",
            "Epoch 6: Training accuracy: 0.6223076923076923\n",
            "char_acc = 0.8858461538461538\n",
            "Epoch 7: Training accuracy: 0.6469230769230769\n",
            "char_acc = 0.892\n",
            "Epoch 8: Training accuracy: 0.6684615384615384\n",
            "char_acc = 0.8973846153846153\n",
            "Epoch 9: Training accuracy: 0.6838461538461539\n",
            "char_acc = 0.9027692307692308\n",
            "Epoch 10: Training accuracy: 0.7015384615384616\n",
            "char_acc = 0.9038461538461539\n",
            "Epoch 11: Training accuracy: 0.7038461538461539\n",
            "char_acc = 0.9052307692307693\n",
            "Epoch 12: Training accuracy: 0.71\n",
            "char_acc = 0.9070769230769231\n",
            "Epoch 13: Training accuracy: 0.7115384615384616\n",
            "char_acc = 0.912\n",
            "Epoch 14: Training accuracy: 0.7315384615384616\n",
            "char_acc = 0.9170769230769231\n",
            "Epoch 15: Training accuracy: 0.7507692307692307\n",
            "char_acc = 0.9193846153846154\n",
            "Epoch 16: Training accuracy: 0.7569230769230769\n",
            "char_acc = 0.9186153846153846\n",
            "Epoch 17: Training accuracy: 0.7530769230769231\n",
            "char_acc = 0.9201538461538461\n",
            "Epoch 18: Training accuracy: 0.7569230769230769\n",
            "char_acc = 0.9227692307692308\n",
            "Epoch 19: Training accuracy: 0.7669230769230769\n",
            "char_acc = 0.9263076923076923\n",
            "Epoch 20: Training accuracy: 0.7784615384615384\n",
            "char_acc = 0.9287692307692308\n",
            "Epoch 21: Training accuracy: 0.7861538461538462\n",
            "char_acc = 0.9301538461538461\n",
            "Epoch 22: Training accuracy: 0.7907692307692308\n",
            "char_acc = 0.9313846153846154\n",
            "Epoch 23: Training accuracy: 0.7938461538461539\n",
            "char_acc = 0.932923076923077\n",
            "Epoch 24: Training accuracy: 0.7984615384615384\n",
            "char_acc = 0.9332307692307692\n",
            "Epoch 25: Training accuracy: 0.8007692307692308\n",
            "char_acc = 0.934\n",
            "Epoch 26: Training accuracy: 0.803076923076923\n",
            "char_acc = 0.935076923076923\n",
            "Epoch 27: Training accuracy: 0.8076923076923077\n",
            "char_acc = 0.9358461538461539\n",
            "Epoch 28: Training accuracy: 0.8107692307692308\n",
            "char_acc = 0.9361538461538461\n",
            "Epoch 29: Training accuracy: 0.8107692307692308\n",
            "char_acc = 0.937076923076923\n",
            "Epoch 30: Training accuracy: 0.8146153846153846\n",
            "char_acc = 0.9384615384615385\n",
            "Epoch 31: Training accuracy: 0.82\n",
            "char_acc = 0.9383076923076923\n",
            "Epoch 32: Training accuracy: 0.82\n",
            "char_acc = 0.9401538461538461\n",
            "Epoch 33: Training accuracy: 0.8261538461538461\n",
            "char_acc = 0.9418461538461539\n",
            "Epoch 34: Training accuracy: 0.8307692307692308\n",
            "char_acc = 0.9435384615384615\n",
            "Epoch 35: Training accuracy: 0.8376923076923077\n",
            "char_acc = 0.9453846153846154\n",
            "Epoch 36: Training accuracy: 0.8415384615384616\n",
            "char_acc = 0.9475384615384616\n",
            "Epoch 37: Training accuracy: 0.8507692307692307\n",
            "char_acc = 0.9472307692307692\n",
            "Epoch 38: Training accuracy: 0.8469230769230769\n",
            "char_acc = 0.947076923076923\n",
            "Epoch 39: Training accuracy: 0.8476923076923077\n",
            "char_acc = 0.945076923076923\n",
            "Epoch 40: Training accuracy: 0.8376923076923077\n",
            "char_acc = 0.9455384615384615\n",
            "Epoch 41: Training accuracy: 0.8384615384615385\n",
            "char_acc = 0.9466153846153846\n",
            "Epoch 42: Training accuracy: 0.8415384615384616\n",
            "char_acc = 0.9478461538461539\n",
            "Epoch 43: Training accuracy: 0.8469230769230769\n",
            "char_acc = 0.9504615384615385\n",
            "Epoch 44: Training accuracy: 0.86\n",
            "char_acc = 0.9509230769230769\n",
            "Epoch 45: Training accuracy: 0.86\n",
            "char_acc = 0.9504615384615385\n",
            "Epoch 46: Training accuracy: 0.8576923076923076\n",
            "char_acc = 0.9495384615384616\n",
            "Epoch 47: Training accuracy: 0.8561538461538462\n",
            "char_acc = 0.949076923076923\n",
            "Epoch 48: Training accuracy: 0.8538461538461538\n",
            "char_acc = 0.9493846153846154\n",
            "Epoch 49: Training accuracy: 0.8538461538461538\n",
            "char_acc = 0.951076923076923\n",
            "Epoch 50: Training accuracy: 0.8615384615384616\n"
          ],
          "name": "stdout"
        },
        {
          "output_type": "display_data",
          "data": {
            "image/png": "[encoded data removed]",
            "text/plain": [
              "<Figure size 432x288 with 1 Axes>"
            ]
          },
          "metadata": {
            "tags": [],
            "needs_background": "light"
          }
        },
        {
          "output_type": "display_data",
          "data": {
            "image/png": "[encoded data removed]",
            "text/plain": [
              "<Figure size 432x288 with 1 Axes>"
            ]
          },
          "metadata": {
            "tags": [],
            "needs_background": "light"
          }
        }
      ]
    }
  ]
}