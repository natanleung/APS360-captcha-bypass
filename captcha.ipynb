{
  "nbformat": 4,
  "nbformat_minor": 0,
  "metadata": {
    "colab": {
      "name": "captcha.ipynb",
      "provenance": [],
      "collapsed_sections": []
    },
    "kernelspec": {
      "name": "python3",
      "display_name": "Python 3"
    }
  },
  "cells": [
    {
      "cell_type": "markdown",
      "metadata": {
        "id": "vpgUuwmrWdTi"
      },
      "source": [
        "# Captcha Bypass\r\n",
        "\r\n",
        "**Team 99**\r\n",
        "\r\n",
        "Pranavbhai Patel\r\n",
        "\r\n",
        "Nicholas Leung\r\n",
        "\r\n",
        "Coden Mercurius\r\n",
        "\r\n",
        "Ravi Singh\r\n",
        "\r\n",
        "**Description**\r\n",
        "\r\n",
        "CAPTCHA, or Completely Automated Public Turing Test to Tell Computers and Humans Apart, is a challenge-response test that determines whether a user is authentic (human) or inauthentic (machine). They require users to authenticate themselves by retyping a character sequence prior to completing a request. This notebook implements a CAPTCHA bypass using deep learning. The team aims to investigate weaknesses and vulnerabilities of the CAPTCHA system."
      ]
    },
    {
      "cell_type": "code",
      "metadata": {
        "id": "X5bj7jdWkZ2K"
      },
      "source": [
        "import torch\r\n",
        "import torch.nn as nn\r\n",
        "import os\r\n",
        "from skimage import io\r\n",
        "from torch.utils.data import Dataset, DataLoader\r\n",
        "from torchvision import transforms\r\n",
        "import matplotlib.pyplot as plt"
      ],
      "execution_count": 75,
      "outputs": []
    },
    {
      "cell_type": "markdown",
      "metadata": {
        "id": "hpLX9Jc1Xl2o"
      },
      "source": [
        "## Part 1. Data Processing\r\n",
        "\r\n",
        "The dataset for this model is generated using the following library: https://github.com/lepture/captcha. No additional data augmentation is performed at this time. The code used to generate the dataset is found in the team private repo and is named `dataset_generator.py`.\r\n",
        "\r\n",
        "**Current Dataset Characteristics:**\r\n",
        "- Uniform distribution of characters used\r\n",
        "- Numerical characters only\r\n",
        "\r\n",
        "The generated dataset is availiable through the team private repo. Upload `dataset.zip` into the root session storage and run the below cell to unzip."
      ]
    },
    {
      "cell_type": "code",
      "metadata": {
        "id": "p0rAdV88WZSM"
      },
      "source": [
        "!unzip /dataset.zip -d /"
      ],
      "execution_count": null,
      "outputs": []
    },
    {
      "cell_type": "code",
      "metadata": {
        "id": "n1QRiBOmkLiD"
      },
      "source": [
        "class CaptchaDataset(Dataset):\r\n",
        "  \"\"\" Captcha Dataset \"\"\"\r\n",
        "\r\n",
        "  def __init__(self, directory, character_set):\r\n",
        "    self.directory = directory\r\n",
        "    self.captchas = os.listdir(directory)\r\n",
        "    self.transform = transforms.Compose(\r\n",
        "        [transforms.ToTensor(),\r\n",
        "         transforms.Normalize((0.5, 0.5, 0.5), (0.5, 0.5, 0.5))])\r\n",
        "    self.character_set = character_set\r\n",
        "    self.characters_to_identifier = {}\r\n",
        "\r\n",
        "    for i in range(len(character_set)):\r\n",
        "      self.characters_to_identifier.update({ character_set[i]: i })\r\n",
        "\r\n",
        "  def __len__(self):\r\n",
        "    # Assumes each file in the dataset directory represents a data sample\r\n",
        "    return len(self.captchas)\r\n",
        "\r\n",
        "  def __getitem__(self, index):\r\n",
        "    sample_name = self.captchas[index]\r\n",
        "    sample_captcha_values = list(sample_name[0:-4]) # Slice s.t. remove png file extension\r\n",
        "\r\n",
        "    # Read the image and represent it as a tensor\r\n",
        "    image = io.imread(self.directory + '/' + sample_name)\r\n",
        "    image = self.transform(image)\r\n",
        "\r\n",
        "    # Represent each character as an integer identifier\r\n",
        "    label = []\r\n",
        "    for char in sample_captcha_values:\r\n",
        "      label.append(self.characters_to_identifier.get(char))\r\n",
        "\r\n",
        "    return (image, torch.tensor(label))"
      ],
      "execution_count": 158,
      "outputs": []
    },
    {
      "cell_type": "code",
      "metadata": {
        "id": "369gvdfelzTC"
      },
      "source": [
        "# Instantiate dataset\r\n",
        "character_set = ['0', '1', '2', '3', '4', '5', '6', '7', '8', '9'] # List of characters used in dataset\r\n",
        "dataset = CaptchaDataset(\"/dataset\", character_set)\r\n",
        "\r\n",
        "character_frequency = {} # Contains frequency information\r\n",
        "\r\n",
        "# Populate character_frequency\r\n",
        "for _, label in dataset:\r\n",
        "  for char_identifier in label:\r\n",
        "    char = character_set[char_identifier.item()]\r\n",
        "    current_value = character_frequency.get(char, None)\r\n",
        "\r\n",
        "    if current_value is None: \r\n",
        "      character_frequency.update({ char : 0 })\r\n",
        "    else:\r\n",
        "      character_frequency.update({ char : current_value + 1 })"
      ],
      "execution_count": 151,
      "outputs": []
    },
    {
      "cell_type": "code",
      "metadata": {
        "colab": {
          "base_uri": "https://localhost:8080/",
          "height": 295
        },
        "id": "CKOpRG17wP_d",
        "outputId": "eaf8ea1a-3832-461e-b308-61d59346ad68"
      },
      "source": [
        "# Dataset visualization\r\n",
        "\r\n",
        "x_values = range(len(character_set))\r\n",
        "y_values = []\r\n",
        "\r\n",
        "for char in character_set:\r\n",
        "  count = character_frequency.get(char)\r\n",
        "  y_values.append(count)\r\n",
        "\r\n",
        "plt.title(\"Character frequency in dataset\")\r\n",
        "plt.plot(x_values, y_values)\r\n",
        "plt.xlabel(\"Characters\")\r\n",
        "plt.ylabel(\"Count\")\r\n",
        "plt.xticks(x_values, character_set)\r\n",
        "plt.show()\r\n"
      ],
      "execution_count": 149,
      "outputs": [
        {
          "output_type": "display_data",
          "data": {
            "image/png": "[encoded data removed]",
            "text/plain": [
              "<Figure size 432x288 with 1 Axes>"
            ]
          },
          "metadata": {
            "tags": [],
            "needs_background": "light"
          }
        }
      ]
    },
    {
      "cell_type": "code",
      "metadata": {
        "id": "YGzF8YBvzBhk"
      },
      "source": [
        "def get_data_loaders(dataset, batch_size):\r\n",
        "\r\n",
        "  training_ratio = 0.7\r\n",
        "  validation_ratio = 0.15\r\n",
        "  # test_ratio implied\r\n",
        "\r\n",
        "  train_length = int(len(dataset) * training_ratio)\r\n",
        "  validation_length = int((len(dataset) - train_length) * (validation_ratio / ( 1 - training_ratio )))\r\n",
        "  test_length = len(dataset) - train_length - validation_length\r\n",
        "  \r\n",
        "  train_set, valid_set, test_set = torch.utils.data.random_split(dataset, [train_length, validation_length, test_length], torch.Generator().manual_seed(10))\r\n",
        "\r\n",
        "  # REMINDER: Data is not shuffled per epoch, we may want this\r\n",
        "  train_loader = torch.utils.data.DataLoader(train_set, batch_size=batch_size, num_workers=1)\r\n",
        "  valid_loader = torch.utils.data.DataLoader(valid_set, batch_size=batch_size, num_workers=1)\r\n",
        "  test_loader = torch.utils.data.DataLoader(test_set, batch_size=batch_size, num_workers=1)\r\n",
        "\r\n",
        "  return train_loader, valid_loader, test_loader\r\n"
      ],
      "execution_count": 159,
      "outputs": []
    },
    {
      "cell_type": "code",
      "metadata": {
        "id": "U3GEs9UA79cx"
      },
      "source": [
        "train, valid, test = get_data_loaders(dataset, 64)"
      ],
      "execution_count": 164,
      "outputs": []
    }
  ]
}